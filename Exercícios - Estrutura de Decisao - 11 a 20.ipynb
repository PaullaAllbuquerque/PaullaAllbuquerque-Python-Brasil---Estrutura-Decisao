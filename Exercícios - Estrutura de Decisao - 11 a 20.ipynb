{
 "cells": [
  {
   "cell_type": "code",
   "execution_count": 4,
   "id": "c28feb08",
   "metadata": {},
   "outputs": [
    {
     "name": "stdout",
     "output_type": "stream",
     "text": [
      "Insira seu salário atual: 1200\n",
      "Aumento de 10% =  120.0\n",
      "Novo salário:  1320.0\n"
     ]
    }
   ],
   "source": [
    "'''Exercício 11 - As Organizações Tabajara resolveram dar um aumento de salário aos seus colaboradores e \n",
    "lhe contraram para desenvolver o programa que calculará os reajustes.\n",
    "Faça um programa que recebe o salário de um colaborador e o reajuste segundo o seguinte critério, baseado no salário atual:\n",
    "salários até R$ 280,00 (incluindo) : aumento de 20%\n",
    "salários entre R$ 280,00 e R$ 700,00 : aumento de 15%\n",
    "salários entre R$ 700,00 e R$ 1500,00 : aumento de 10%\n",
    "salários de R$ 1500,00 em diante : aumento de 5% Após o aumento ser realizado, informe na tela:\n",
    "o salário antes do reajuste;\n",
    "o percentual de aumento aplicado;\n",
    "o valor do aumento;\n",
    "o novo salário, após o aumento.'''\n",
    "\n",
    "salario_atual = float(input('Insira seu salário atual: '))\n",
    "\n",
    "if salario_atual <= 280:\n",
    "    sal1 = (salario_atual*20)/100\n",
    "    nsal1 = sal1 + salario_atual\n",
    "    print('Aumento de 20% = ', sal1)\n",
    "    print('Novo salário: ', nsal1)\n",
    "\n",
    "elif salario_atual > 280 and salario_atual <= 700:\n",
    "    sal2 = (salario_atual*15)/100\n",
    "    nsal2 = sal2 + salario_atual\n",
    "    print('Aumento de 15% = ', sal2)\n",
    "    print('Novo salário: ', nsal2)\n",
    "    \n",
    "\n",
    "elif salario_atual > 700 and salario_atual <= 1500:\n",
    "    sal3 = (salario_atual*10)/100\n",
    "    nsal3 = sal3 + salario_atual\n",
    "    print('Aumento de 10% = ', sal3)\n",
    "    print('Novo salário: ', nsal3)\n",
    "    \n",
    "else:\n",
    "    sal3 = (salario_atual*5)/100\n",
    "    nsal3 = sal3 + salario_atual\n",
    "    print('Aumento de 5% = ', sal3)\n",
    "    print('Novo salário: ', nsal3)\n",
    "\n"
   ]
  },
  {
   "cell_type": "code",
   "execution_count": 3,
   "id": "aabd404f",
   "metadata": {},
   "outputs": [
    {
     "name": "stdout",
     "output_type": "stream",
     "text": [
      "Insira o valor que você ganha por hora: 45\n",
      "Insira quantas horas você trabalha por mês: 48\n",
      "Salário Bruto:  2160.0\n",
      "IR:  216.0\n",
      "FGTS:  237.6\n",
      "Sindicato:  64.8\n",
      "Total de descontos:  518.4\n",
      "Salário Liquido:  1641.6\n"
     ]
    }
   ],
   "source": [
    "'''Exercício 12 - Faça um programa para o cálculo de uma folha de pagamento, \n",
    "sabendo que os descontos são do Imposto de Renda, que depende do salário bruto (conforme tabela abaixo) \n",
    "e 3% para o Sindicato e que o FGTS corresponde a 11% do Salário Bruto, mas não é descontado (é a empresa que deposita). \n",
    "O Salário Líquido corresponde ao Salário Bruto menos os descontos. \n",
    "O programa deverá pedir ao usuário o valor da sua hora e a quantidade de horas trabalhadas no mês.'''\n",
    "\n",
    "valor_hora = float(input('Insira o valor que você ganha por hora: '))\n",
    "hora_trabalhada = float(input('Insira quantas horas você trabalha por mês: '))\n",
    "salario_bruto = valor_hora * hora_trabalhada\n",
    "fgts = (salario_bruto*11)/100\n",
    "sind = (salario_bruto*3)/100\n",
    "\n",
    "if salario_bruto <= 900:\n",
    "    fgts = (salario_bruto*11)/100\n",
    "    sind = (salario_bruto*3)/100\n",
    "    td1 = (fgts + sind)\n",
    "    sl1 = salario_bruto - td1\n",
    "    print('Salário Bruto: ', valor_hora * salario_bruto)  \n",
    "    print('IR: isento')\n",
    "    print('FGTS: ', fgts)     \n",
    "    print('Sindicato: ', sind)\n",
    "    print('Total de descontos: ', td1)  \n",
    "    print('Salário Liquido: ', sl1)\n",
    "\n",
    "elif salario_bruto > 900 and salario_bruto <= 1500:\n",
    "    ir2 = (salario_bruto*5)/100\n",
    "    td2 = (ir2 + fgts + sind)\n",
    "    sl2 = salario_bruto - td2\n",
    "    print ('Salário Bruto: ', salario_bruto)  \n",
    "    print('IR: ', ir2)\n",
    "    print('FGTS: ', fgts)     \n",
    "    print('Sindicato: ', sind)\n",
    "    print('Total de descontos: ', td2)  \n",
    "    print('Salário Liquido: ', sl2)\n",
    "    \n",
    "elif salario_bruto > 1500 and salario_bruto <= 2500:\n",
    "    ir3 = (salario_bruto*10)/100\n",
    "    td3 = (ir3 + fgts + sind)\n",
    "    sl3 = salario_bruto - td3\n",
    "    print ('Salário Bruto: ', salario_bruto)  \n",
    "    print('IR: ', ir3)\n",
    "    print('FGTS: ', fgts)     \n",
    "    print('Sindicato: ', sind)\n",
    "    print('Total de descontos: ', td3)  \n",
    "    print('Salário Liquido: ', sl3)\n",
    "\n",
    "else:\n",
    "    ir4 = (salario_bruto*20)/100\n",
    "    td4 = (ir4 + fgts + sind)\n",
    "    sl4 = salario_bruto - td4\n",
    "    print ('Salário Bruto: ', salario_bruto)  \n",
    "    print('IR: ', ir4)\n",
    "    print('FGTS: ', fgts)     \n",
    "    print('Sindicato: ', sind)\n",
    "    print('Total de descontos: ', td4)  \n",
    "    print('Salário Liquido: ', sl4)\n"
   ]
  },
  {
   "cell_type": "code",
   "execution_count": 5,
   "id": "e880aaf0",
   "metadata": {},
   "outputs": [
    {
     "name": "stdout",
     "output_type": "stream",
     "text": [
      "3 - Terça\n"
     ]
    }
   ],
   "source": [
    "import random\n",
    "'''Exercício 13 - Faça um Programa que leia um número e exiba o dia correspondente da semana.\n",
    "(1-Domingo, 2- Segunda, etc.), se digitar outro valor deve aparecer valor inválido.\n",
    "'''\n",
    "lista_num = [1, 2, 3, 4, 5, 6, 7]\n",
    "num_escolhido = random.choice(lista_num)\n",
    "\n",
    "if num_escolhido == 1:\n",
    "    print('1 - Domingo')\n",
    "elif num_escolhido == 2:\n",
    "    print('2 - Segunda')\n",
    "elif num_escolhido == 3:\n",
    "    print('3 - Terça')\n",
    "elif num_escolhido == 4:\n",
    "    print('4 - Quarta')\n",
    "elif num_escolhido == 5:\n",
    "    print('5 - Quinta')\n",
    "elif num_escolhido == 6:\n",
    "    print('6 - Sexta')\n",
    "elif num_escolhido == 7:\n",
    "    print('7 - Sabado')"
   ]
  },
  {
   "cell_type": "code",
   "execution_count": 6,
   "id": "9ebd6b84",
   "metadata": {},
   "outputs": [
    {
     "name": "stdout",
     "output_type": "stream",
     "text": [
      "Insira sua primeira nota parcial: 10\n",
      "Insira sua segunda nota parcial: 10\n",
      "Primeira nota:  10\n",
      "Segunda nota:  10\n",
      "Média:  10.0\n",
      "Conceito A - Aprovado\n"
     ]
    }
   ],
   "source": [
    "'''Exercício 14 -Faça um programa que lê as duas notas parciais obtidas por um aluno numa disciplina ao longo de um semestre, \n",
    "e calcule a sua média. A atribuição de conceitos obedece à tabela abaixo:\n",
    "O algoritmo deve mostrar na tela as notas, a média, o conceito correspondente e a mensagem “APROVADO” \n",
    "se o conceito for A, B ou C ou “REPROVADO” se o conceito for D ou E.'''\n",
    "\n",
    "nota1 = int(input('Insira sua primeira nota parcial: '))\n",
    "nota2 = int(input('Insira sua segunda nota parcial: '))\n",
    "media_notas = (nota1 + nota2)/2\n",
    "\n",
    "print('Primeira nota: ', nota1)\n",
    "print('Segunda nota: ', nota2)\n",
    "print('Média: ', media_notas)\n",
    "\n",
    "\n",
    "if media_notas >= 9 and media_notas <= 10:\n",
    "    print('Conceito A - Aprovado')\n",
    "    \n",
    "elif media_notas >= 7.5 and media_notas < 9:\n",
    "    print('Conceito B - Aprovado')\n",
    "\n",
    "elif media_notas >= 6 and media_notas < 7.5:\n",
    "    print('Conceito C - Aprovado')\n",
    "\n",
    "elif media_notas >= 4 and media_notas < 6:\n",
    "    print('Conceito D - Reprovado')\n",
    "    \n",
    "else:\n",
    "    print('Conceito E - Reprovado')"
   ]
  },
  {
   "cell_type": "code",
   "execution_count": 7,
   "id": "14883a26",
   "metadata": {},
   "outputs": [
    {
     "name": "stdout",
     "output_type": "stream",
     "text": [
      "Insira o valor de uma dos lados: 10\n",
      "Insira o valor do segundo lado: 12\n",
      "Insira o valor dp terceiro lado: 14\n",
      "Triangulo Escaleno\n"
     ]
    }
   ],
   "source": [
    "'''Exercício 15 - Faça um Programa que peça os 3 lados de um triângulo. O programa deverá informar se os valores podem ser um triângulo. (3 inputs)\n",
    "Indique, caso os lados formem um triângulo, se o mesmo é: equilátero, isósceles ou escaleno.(if)\n",
    "Dicas:\n",
    "Três lados formam um triângulo quando a soma de quaisquer dois lados for maior que o terceiro;\n",
    "Triângulo Equilátero: três lados iguais;\n",
    "Triângulo Isósceles: quaisquer dois lados iguais;\n",
    "Triângulo Escaleno: três lados diferentes;'''\n",
    "\n",
    "lado1 = float(input('Insira o valor de uma dos lados: '))\n",
    "lado2 = float(input('Insira o valor do segundo lado: '))\n",
    "lado3 = float(input('Insira o valor dp terceiro lado: '))\n",
    "\n",
    "if lado1 == lado2 and  lado1 == lado3:\n",
    "    print('Triangulo Equilátero')\n",
    "    \n",
    "elif (lado1 == lado2 and lado1 != lado3) or (lado2 == lado3 and lado2 != lado1) or (lado3 == lado1 and lado3!= lado2):\n",
    "    print('Triangulo Isósceles')\n",
    "    \n",
    "elif (lado1 != lado2 and lado3) or (lado2 != lado1 and lado3):\n",
    "    print('Triangulo Escaleno')"
   ]
  },
  {
   "cell_type": "code",
   "execution_count": 8,
   "id": "3011375d",
   "metadata": {},
   "outputs": [
    {
     "name": "stdout",
     "output_type": "stream",
     "text": [
      "Insira o valor de a: 5\n",
      "Insira o valor de b: 4\n",
      "Insira o valor de c: 3\n",
      "Equação não possui raízes reais:\n"
     ]
    }
   ],
   "source": [
    "'''Exercício 16 - Faça um programa que calcule as raízes de uma equação do segundo grau, na forma ax2 + bx + c. \n",
    "O programa deverá pedir os valores de a, b e c e fazer as consistências, informando ao usuário nas seguintes situações:\n",
    "Se o usuário informar o valor de A igual a zero, a equação não é do segundo grau e o programa não deve \n",
    "fazer pedir os demais valores, sendo encerrado;\n",
    "Se o delta calculado for negativo, a equação não possui raizes reais. Informe ao usuário e encerre o programa;\n",
    "Se o delta calculado for igual a zero a equação possui apenas uma raiz real; informe-a ao usuário;\n",
    "Se o delta for positivo, a equação possui duas raiz reais; informe-as ao usuário;'''\n",
    "\n",
    "\n",
    "a = float(input('Insira o valor de a: '))\n",
    "if a == 0:\n",
    "    print('Valor inválido')\n",
    "    \n",
    "else: \n",
    "    b = float(input('Insira o valor de b: '))\n",
    "    c = float(input('Insira o valor de c: '))\n",
    "\n",
    "delta = (b**2) - (4*a*c)\n",
    "if delta < 0:\n",
    "    print('Equação não possui raízes reais')\n",
    "    \n",
    "elif delta == 0:\n",
    "    x = (-b + (delta*0.5))/2*a\n",
    "    print('Possui uma raiz real:', x)\n",
    "    \n",
    "else:\n",
    "    x1 = (-b - (delta*0.5))/2*a\n",
    "    print(\"Possui duas raízes reais: \\nx=\", x, '\\nx1=', x1 )\n",
    "    "
   ]
  },
  {
   "cell_type": "code",
   "execution_count": 9,
   "id": "3e78d97a",
   "metadata": {},
   "outputs": [
    {
     "name": "stdout",
     "output_type": "stream",
     "text": [
      "Insira um ano: 1975\n",
      "Este não é um ano bissexto\n"
     ]
    }
   ],
   "source": [
    "'''Exercício 17 - Faça um Programa que peça um número correspondente a um determinado ano e em \n",
    "seguida informe se este ano é ou não bissexto.\n",
    "'''\n",
    "ano = int(input('Insira um ano: '))\n",
    "\n",
    "if (ano % 4 == 0) and (ano % 100 != 0):\n",
    "    print('Este é um ano bissexto (caso 1)')\n",
    "elif (ano % 4 == 0) and (ano % 100 == 0) and (ano % 400 == 0):\n",
    "    print('Este é um ano bissexto (caso 2)')\n",
    "else: \n",
    "    print('Este não é um ano bissexto')\n"
   ]
  },
  {
   "cell_type": "code",
   "execution_count": 13,
   "id": "72b790af",
   "metadata": {},
   "outputs": [
    {
     "name": "stdout",
     "output_type": "stream",
     "text": [
      "Insira o dia:12\n",
      "Insira o mes:07\n",
      "Insira o ano:1985\n",
      "True\n"
     ]
    }
   ],
   "source": [
    "#Exercício 18 - Faça um Programa que peça uma data no formato dd/mm/aaaa e determine se a mesma é uma data válida\n",
    "\n",
    "dia = int(input('Insira o dia:'))\n",
    "mes = int(input('Insira o mes:'))\n",
    "ano = int(input('Insira o ano:'))\n",
    "\n",
    "valida = False \n",
    "\n",
    "if (mes == 1 or mes == 3 or mes == 5 or mes==7 or mes == 8 or mes == 10 or mes == 12):\n",
    "    if dia <= 31:\n",
    "        valida = True\n",
    "        \n",
    "elif (mes == 4 or mes == 6 or mes == 9 or mes == 11):\n",
    "    if dia <= 30:\n",
    "        valida = True\n",
    "        \n",
    "elif mes == 2:\n",
    "    if (ano % 4 == 0 and ano % 100 != 0) or (ano %4 == 0 and ano %100 == 0 and ano%400 == 0):\n",
    "        if(dia<=29):\n",
    "            valida = True\n",
    "    elif(dia <=28):\n",
    "        valida = True\n",
    "print(valida)\n",
    "\n"
   ]
  },
  {
   "cell_type": "code",
   "execution_count": 14,
   "id": "ddff9585",
   "metadata": {},
   "outputs": [
    {
     "name": "stdout",
     "output_type": "stream",
     "text": [
      "Insira um numero entre 0 e 1000: 236\n",
      "2 Centenas 3 Dezenas 6 Unidades\n"
     ]
    }
   ],
   "source": [
    "'''Exercício 19 - Faça um Programa que leia um número inteiro menor que 1000 \n",
    "e imprima a quantidade de centenas, dezenas e unidades do mesmo.\n",
    "Observando os termos no plural a colocação do \"e\", da vírgula entre outros. Exemplo:\n",
    "326 = 3 centenas, 2 dezenas e 6 unidades\n",
    "12 = 1 dezena e 2 unidades Testar com: 326, 300, 100, 320, 310,305, 301, 101, 311, 111, 25, 20, 10, 21, 11, 1, 7 e 16'''\n",
    "\n",
    "numero = int(input('Insira um numero entre 0 e 1000: '))\n",
    "unidade = numero%10\n",
    "numero1 = (numero - unidade)/10\n",
    "dezena = numero1%10\n",
    "numero2 = (numero1 - dezena)/10\n",
    "centena = numero2\n",
    "\n",
    "unidade1 = int(unidade)\n",
    "dezena1 = int(dezena)\n",
    "centena1 = int(centena)\n",
    "\n",
    "print(centena1, 'Centenas', dezena1, 'Dezenas', unidade1, 'Unidades')"
   ]
  },
  {
   "cell_type": "code",
   "execution_count": 16,
   "id": "9141b622",
   "metadata": {},
   "outputs": [
    {
     "name": "stdout",
     "output_type": "stream",
     "text": [
      "Insira primeira nota: 10\n",
      "Insira segunda nota: 8\n",
      "Insira terceira nota: 9\n",
      "Aprovado - 9\n"
     ]
    }
   ],
   "source": [
    "'''Exercício 20 - Faça um Programa para leitura de três notas parciais de um aluno. \n",
    "O programa deve calcular a média alcançada por aluno e presentar:\n",
    "A mensagem \"Aprovado\", se a média for maior ou igual a 7, com a respectiva média alcançada;\n",
    "A mensagem \"Reprovado\", se a média for menor do que 7, com a respectiva média alcançada;\n",
    "A mensagem \"Aprovado com Distinção\", se a média for igual a 10.'''\n",
    "\n",
    "not1 = int(input('Insira primeira nota: '))\n",
    "not2 = int(input('Insira segunda nota: '))\n",
    "not3 = int(input('Insira terceira nota: '))\n",
    "\n",
    "media_alcançada = (not1 + not2 + not3)/3\n",
    "\n",
    "\n",
    "if media_alcançada >= 7 and media_alcançada < 10:\n",
    "    print('Aprovado -', round(media_alcançada))\n",
    "\n",
    "elif media_alcançada == 10:\n",
    "    print ('Aprovado com distinção -', round(media_alcançada))\n",
    "\n",
    "else:\n",
    "    print ('Reprovado -', round(media_alcançada))\n",
    "\n",
    "\n",
    "\n"
   ]
  }
 ],
 "metadata": {
  "kernelspec": {
   "display_name": "Python 3 (ipykernel)",
   "language": "python",
   "name": "python3"
  },
  "language_info": {
   "codemirror_mode": {
    "name": "ipython",
    "version": 3
   },
   "file_extension": ".py",
   "mimetype": "text/x-python",
   "name": "python",
   "nbconvert_exporter": "python",
   "pygments_lexer": "ipython3",
   "version": "3.9.12"
  }
 },
 "nbformat": 4,
 "nbformat_minor": 5
}

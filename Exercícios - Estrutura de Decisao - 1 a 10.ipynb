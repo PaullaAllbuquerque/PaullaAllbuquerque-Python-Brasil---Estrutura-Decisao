{
 "cells": [
  {
   "cell_type": "code",
   "execution_count": 3,
   "id": "89b2da18",
   "metadata": {},
   "outputs": [
    {
     "name": "stdout",
     "output_type": "stream",
     "text": [
      "Insira um numero a sua escolha:12\n",
      "Insira outro numero:45\n",
      "45\n"
     ]
    }
   ],
   "source": [
    "# Exercício 1 - Faça um Programa que peça dois números e imprima o maior deles.\n",
    "n1 = int(input('Insira um numero a sua escolha:'))\n",
    "n2 = int(input('Insira outro numero:'))\n",
    "if n1>n2:\n",
    "    print(n1)\n",
    "else:\n",
    "    print(n2)"
   ]
  },
  {
   "cell_type": "code",
   "execution_count": 12,
   "id": "7248ac7e",
   "metadata": {},
   "outputs": [
    {
     "name": "stdout",
     "output_type": "stream",
     "text": [
      "Insira um numero real: -2\n",
      "Negativo\n"
     ]
    }
   ],
   "source": [
    "# Exercício 2 - Faça um Programa que peça um valor e mostre na tela se o valor é positivo ou negativo.\n",
    "a = int(input('Insira um numero real: '))\n",
    "if a >0:\n",
    "    print('positivo')\n",
    "else:\n",
    "    print('Negativo')"
   ]
  },
  {
   "cell_type": "code",
   "execution_count": 17,
   "id": "4df7a409",
   "metadata": {},
   "outputs": [
    {
     "name": "stdout",
     "output_type": "stream",
     "text": [
      "Insira F para feminino e M para masculino:g\n",
      "Sexo inválido\n"
     ]
    }
   ],
   "source": [
    "# Exercício 3 - Faça um Programa que verifique se uma letra digitada é \"F\" ou \"M\". \n",
    "#Conforme a letra escrever: F - Feminino, M - Masculino, Sexo Inválido.\n",
    "\n",
    "sexo = str(input('Insira F para feminino e M para masculino:'))\n",
    "if sexo == 'F':\n",
    "    print('Feminino')\n",
    "elif sexo == 'M':\n",
    "    print('Masculino')\n",
    "else:\n",
    "    print('Sexo inválido')\n"
   ]
  },
  {
   "cell_type": "code",
   "execution_count": 23,
   "id": "af7b4506",
   "metadata": {},
   "outputs": [
    {
     "name": "stdout",
     "output_type": "stream",
     "text": [
      "Insira uma letra: c\n",
      "Consoante\n"
     ]
    }
   ],
   "source": [
    "# Exercício 4 - Faça um Programa que verifique se uma letra digitada é vogal ou consoante.\n",
    "\n",
    "b = str(input('Insira uma letra: '))\n",
    "\n",
    "if b == 'a' or b == 'e' or b == 'i' or b == 'o' or b =='u':\n",
    "    print('Vogal')\n",
    "\n",
    "else:\n",
    "    print('Consoante')\n",
    "    "
   ]
  },
  {
   "cell_type": "code",
   "execution_count": 26,
   "id": "fd0d22a8",
   "metadata": {},
   "outputs": [
    {
     "name": "stdout",
     "output_type": "stream",
     "text": [
      "Insira a primeira nota: 8\n",
      "Insira a segunda nota: 6\n",
      "7.0\n",
      "Aprovado\n"
     ]
    }
   ],
   "source": [
    "'''Exercício 5 - Faça um programa para a leitura de duas notas parciais de um aluno. O programa deve calcular \n",
    "a média alcançada por aluno e apresentar:\n",
    "A mensagem \"Aprovado\", se a média alcançada for maior ou igual a sete;\n",
    "A mensagem \"Reprovado\", se a média for menor do que sete;\n",
    "A mensagem \"Aprovado com Distinção\", se a média for igual a dez.'''\n",
    "\n",
    "nota1 = int(input('Insira a primeira nota: '))\n",
    "nota2 = int(input('Insira a segunda nota: '))\n",
    "\n",
    "calculo_media = (nota1 + nota2)/2\n",
    "print(calculo_media)\n",
    "\n",
    "if calculo_media >= 7:\n",
    "    print('Aprovado')\n",
    "\n",
    "elif calculo_media < 7:\n",
    "    print('Reprovado')\n",
    "    \n",
    "elif calculo_media == 10:\n",
    "    print('Aprovado com Distinção')\n"
   ]
  },
  {
   "cell_type": "code",
   "execution_count": 4,
   "id": "654051f7",
   "metadata": {},
   "outputs": [
    {
     "name": "stdout",
     "output_type": "stream",
     "text": [
      "Insira um número: 12\n",
      "Insira outro número: 45\n",
      "Insira um ultimo número: 89\n",
      "O maior número da lista é o 89\n"
     ]
    }
   ],
   "source": [
    "#Exercício 6 - Faça um programa que leia três números e mostre o maior deles.\n",
    "num1 = int(input('Insira um número: '))\n",
    "num2 = int(input('Insira outro número: '))\n",
    "num3 = int(input('Insira um ultimo número: '))\n",
    "\n",
    "lista = []\n",
    "lista.append(num1)\n",
    "lista.append(num2)\n",
    "lista.append(num3)\n",
    "\n",
    "print('O maior número da lista é o', max(lista))"
   ]
  },
  {
   "cell_type": "code",
   "execution_count": 5,
   "id": "bffa7e8d",
   "metadata": {},
   "outputs": [
    {
     "name": "stdout",
     "output_type": "stream",
     "text": [
      "Insira a primeira nota: 56\n",
      "Insira a segunda nota: 78\n",
      "Insira a terceira nota: 45\n",
      "A maior nóte é 78\n",
      "A menor nota é 45\n"
     ]
    }
   ],
   "source": [
    "# Exercício 7 - Faça um Programa que leia três números e mostre o maior e o menor deles.\n",
    "nota1 =  int(input('Insira a primeira nota: '))\n",
    "nota2 =  int(input('Insira a segunda nota: '))\n",
    "nota3 =  int(input('Insira a terceira nota: '))\n",
    "\n",
    "lista = []\n",
    "lista.append(nota1)\n",
    "lista.append(nota2)\n",
    "lista.append(nota3)\n",
    "\n",
    "print('A maior nóte é {}\\nA menor nota é {}'.format(max(lista), min(lista)))\n"
   ]
  },
  {
   "cell_type": "code",
   "execution_count": 42,
   "id": "a189c993",
   "metadata": {},
   "outputs": [
    {
     "name": "stdout",
     "output_type": "stream",
     "text": [
      "Insira o preço do produto 1: 14\n",
      "Insira o preço do produto 2: 11\n",
      "Insira o preço do produto 3: 15\n",
      "Comprar Produto 2\n"
     ]
    }
   ],
   "source": [
    "'''Exercício 8 - Faça um programa que pergunte o preço de três produtos e \n",
    "informe qual produto você deve comprar, sabendo que a decisão é sempre pelo mais barato.'''\n",
    "\n",
    "p1 = float(input('Insira o preço do produto 1: '))\n",
    "p2 = float(input('Insira o preço do produto 2: '))\n",
    "p3 = float(input('Insira o preço do produto 3: '))\n",
    "\n",
    "if p1 < p2 and p1< p3:\n",
    "    print ('Comprar Produto 1')\n",
    "\n",
    "elif p2 < p1 and p2< p3:\n",
    "    print ('Comprar Produto 2')\n",
    "    \n",
    "elif p3 < p1 and p3< p2:\n",
    "    print ('Comprar Produto 3')"
   ]
  },
  {
   "cell_type": "code",
   "execution_count": 46,
   "id": "c53929a0",
   "metadata": {},
   "outputs": [
    {
     "name": "stdout",
     "output_type": "stream",
     "text": [
      "[23, 45, 67]\n"
     ]
    }
   ],
   "source": [
    "#Exercício 9 - Faça um Programa que leia três números e mostre-os em ordem decrescente.\n",
    "\n",
    "numeros = [23, 45, 67]\n",
    "numeros.sort()\n",
    "print(numeros)"
   ]
  },
  {
   "cell_type": "code",
   "execution_count": 60,
   "id": "fef0f540",
   "metadata": {},
   "outputs": [
    {
     "name": "stdout",
     "output_type": "stream",
     "text": [
      "Em que turno voce estuda? M-Matutino V-Vespertino ou N-Noturno N\n",
      "Boa noite\n"
     ]
    }
   ],
   "source": [
    "'''Exercício 10 - Faça um Programa que pergunte em que turno você estuda\n",
    "Peça para digitar M-matutino ou V-Vespertino ou N- Noturno.\n",
    "Imprima a mensagem \"Bom Dia!\", \"Boa Tarde!\" ou \"Boa Noite!\" ou \"Valor Inválido!\", conforme o caso.'''\n",
    "\n",
    "turno = str(input('Em que turno voce estuda? M-Matutino V-Vespertino ou N-Noturno '))\n",
    "\n",
    "if turno == 'M':\n",
    "    print('Bom dia')\n",
    "\n",
    "elif turno == 'V':\n",
    "    print('Boa tarde')\n",
    "\n",
    "elif turno == 'N':\n",
    "    print('Boa noite')\n",
    "    \n",
    "else:\n",
    "    print('Valor Inválido')\n",
    "    \n",
    "\n",
    "\n"
   ]
  }
 ],
 "metadata": {
  "kernelspec": {
   "display_name": "Python 3 (ipykernel)",
   "language": "python",
   "name": "python3"
  },
  "language_info": {
   "codemirror_mode": {
    "name": "ipython",
    "version": 3
   },
   "file_extension": ".py",
   "mimetype": "text/x-python",
   "name": "python",
   "nbconvert_exporter": "python",
   "pygments_lexer": "ipython3",
   "version": "3.9.12"
  }
 },
 "nbformat": 4,
 "nbformat_minor": 5
}
